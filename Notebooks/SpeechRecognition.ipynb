{
 "cells": [
  {
   "cell_type": "markdown",
   "metadata": {},
   "source": [
    "Setting up the GPU"
   ]
  },
  {
   "cell_type": "code",
   "execution_count": 1,
   "metadata": {},
   "outputs": [],
   "source": [
    "import tensorflow as tf\n",
    "tf.config.set_visible_devices(tf.config.list_physical_devices('GPU')[0], 'GPU')\n"
   ]
  },
  {
   "cell_type": "markdown",
   "metadata": {},
   "source": [
    "Checking if GPU is working"
   ]
  },
  {
   "cell_type": "code",
   "execution_count": 2,
   "metadata": {},
   "outputs": [
    {
     "name": "stdout",
     "output_type": "stream",
     "text": [
      "Num GPUs: 1\n"
     ]
    }
   ],
   "source": [
    "physical_devices = tf.config.list_physical_devices('GPU')\n",
    "print(\"Num GPUs:\", len(physical_devices))\n"
   ]
  },
  {
   "cell_type": "markdown",
   "metadata": {},
   "source": [
    "General Dependencies"
   ]
  },
  {
   "cell_type": "code",
   "execution_count": 3,
   "metadata": {},
   "outputs": [],
   "source": [
    "import pandas as pd\n",
    "import numpy as np\n"
   ]
  },
  {
   "cell_type": "code",
   "execution_count": 4,
   "metadata": {},
   "outputs": [],
   "source": [
    "FRAME_RATE=16000\n",
    "CHANNELS = 1"
   ]
  },
  {
   "cell_type": "markdown",
   "metadata": {},
   "source": [
    "Importing the Vosk library, the model to build the model and the recognizer to use this model"
   ]
  },
  {
   "cell_type": "code",
   "execution_count": 5,
   "metadata": {},
   "outputs": [],
   "source": [
    "from vosk import Model, KaldiRecognizer"
   ]
  },
  {
   "cell_type": "markdown",
   "metadata": {},
   "source": [
    "Loading the pretrained model"
   ]
  },
  {
   "cell_type": "code",
   "execution_count": 6,
   "metadata": {},
   "outputs": [],
   "source": [
    "model = Model(model_name='vosk-model-en-us-0.22')"
   ]
  },
  {
   "cell_type": "markdown",
   "metadata": {},
   "source": [
    "Initializing the recognizer"
   ]
  },
  {
   "cell_type": "code",
   "execution_count": 7,
   "metadata": {},
   "outputs": [],
   "source": [
    "recognizer = KaldiRecognizer(model, FRAME_RATE)\n",
    "recognizer.SetWords(True)"
   ]
  },
  {
   "cell_type": "markdown",
   "metadata": {},
   "source": [
    "Load and preprocess the audio files using pydub/soundfile"
   ]
  },
  {
   "cell_type": "code",
   "execution_count": 8,
   "metadata": {},
   "outputs": [],
   "source": [
    "# import soundfile as sf\n",
    "# from scipy import signal\n",
    "\n",
    "# file_path = \"sample-0.mp3\"  # Replace with the correct file path\n",
    "\n",
    "# # Manually set the number of channels and frame rate\n",
    "\n",
    "\n",
    "# # Open the audio file with the desired channels\n",
    "# with sf.SoundFile(file_path, \"r\") as audio_file:\n",
    "#     audio = audio_file.read(frames=-1, dtype=\"float32\", always_2d=True)\n",
    "\n",
    "# # Adjust the number of channels if necessary\n",
    "# if audio.shape[1] != CHANNELS:\n",
    "#     audio = audio[:, :CHANNELS]\n",
    "\n",
    "# # Resample the audio to the desired frame rate\n",
    "# resampled_audio = signal.resample_poly(audio, FRAME_RATE * audio_file.samplerate, audio_file.samplerate)\n",
    "\n",
    "# # Print the updated audio properties\n",
    "# print(\"Audio shape:\", resampled_audio.shape)\n",
    "# print(\"Number of channels:\", CHANNELS)\n",
    "# print(\"Sample rate:\", FRAME_RATE)\n",
    "\n",
    "\n",
    "\n",
    "# Trying Pydub\n",
    "\n",
    "from pydub import AudioSegment\n",
    "\n",
    "audio =AudioSegment.from_mp3('./marketplace.mp3')"
   ]
  },
  {
   "cell_type": "markdown",
   "metadata": {},
   "source": [
    "Pass the audio to the model for conversion/transcription"
   ]
  },
  {
   "cell_type": "code",
   "execution_count": 9,
   "metadata": {},
   "outputs": [],
   "source": [
    "\n",
    "audio = audio.set_channels(CHANNELS)\n",
    "audio = audio.set_frame_rate(FRAME_RATE)\n"
   ]
  },
  {
   "cell_type": "markdown",
   "metadata": {},
   "source": [
    "Pass the audio to model now"
   ]
  },
  {
   "cell_type": "code",
   "execution_count": 10,
   "metadata": {},
   "outputs": [
    {
     "data": {
      "text/plain": [
       "'{\\n  \"result\" : [{\\n      \"conf\" : 1.000000,\\n      \"end\" : 0.180000,\\n      \"start\" : 0.090000,\\n      \"word\" : \"the\"\\n    }, {\\n      \"conf\" : 1.000000,\\n      \"end\" : 0.570000,\\n      \"start\" : 0.180000,\\n      \"word\" : \"funny\"\\n    }, {\\n      \"conf\" : 1.000000,\\n      \"end\" : 0.960000,\\n      \"start\" : 0.600000,\\n      \"word\" : \"thing\"\\n    }, {\\n      \"conf\" : 1.000000,\\n      \"end\" : 1.230000,\\n      \"start\" : 0.960000,\\n      \"word\" : \"about\"\\n    }, {\\n      \"conf\" : 1.000000,\\n      \"end\" : 1.320000,\\n      \"start\" : 1.230000,\\n      \"word\" : \"the\"\\n    }, {\\n      \"conf\" : 1.000000,\\n      \"end\" : 1.680000,\\n      \"start\" : 1.320000,\\n      \"word\" : \"big\"\\n    }, {\\n      \"conf\" : 1.000000,\\n      \"end\" : 2.220000,\\n      \"start\" : 1.710000,\\n      \"word\" : \"economic\"\\n    }, {\\n      \"conf\" : 1.000000,\\n      \"end\" : 2.490000,\\n      \"start\" : 2.220000,\\n      \"word\" : \"news\"\\n    }, {\\n      \"conf\" : 1.000000,\\n      \"end\" : 2.580000,\\n      \"start\" : 2.490000,\\n      \"word\" : \"of\"\\n    }, {\\n      \"conf\" : 1.000000,\\n      \"end\" : 2.670000,\\n      \"start\" : 2.580000,\\n      \"word\" : \"the\"\\n    }, {\\n      \"conf\" : 1.000000,\\n      \"end\" : 3.060000,\\n      \"start\" : 2.670000,\\n      \"word\" : \"day\"\\n    }, {\\n      \"conf\" : 1.000000,\\n      \"end\" : 3.750000,\\n      \"start\" : 3.630000,\\n      \"word\" : \"the\"\\n    }, {\\n      \"conf\" : 1.000000,\\n      \"end\" : 3.960000,\\n      \"start\" : 3.750000,\\n      \"word\" : \"fed\"\\n    }, {\\n      \"conf\" : 1.000000,\\n      \"end\" : 4.260000,\\n      \"start\" : 3.960000,\\n      \"word\" : \"raising\"\\n    }, {\\n      \"conf\" : 1.000000,\\n      \"end\" : 4.590000,\\n      \"start\" : 4.260000,\\n      \"word\" : \"interest\"\\n    }, {\\n      \"conf\" : 1.000000,\\n      \"end\" : 4.980000,\\n      \"start\" : 4.590000,\\n      \"word\" : \"rates\"\\n    }, {\\n      \"conf\" : 1.000000,\\n      \"end\" : 5.280000,\\n      \"start\" : 5.010000,\\n      \"word\" : \"half\"\\n    }, {\\n      \"conf\" : 1.000000,\\n      \"end\" : 5.310000,\\n      \"start\" : 5.280000,\\n      \"word\" : \"a\"\\n    }, {\\n      \"conf\" : 1.000000,\\n      \"end\" : 5.700000,\\n      \"start\" : 5.310000,\\n      \"word\" : \"percentage\"\\n    }, {\\n      \"conf\" : 1.000000,\\n      \"end\" : 6.000000,\\n      \"start\" : 5.700000,\\n      \"word\" : \"point\"\\n    }, {\\n      \"conf\" : 1.000000,\\n      \"end\" : 6.870000,\\n      \"start\" : 6.600000,\\n      \"word\" : \"was\"\\n    }, {\\n      \"conf\" : 1.000000,\\n      \"end\" : 6.960000,\\n      \"start\" : 6.870000,\\n      \"word\" : \"that\"\\n    }, {\\n      \"conf\" : 1.000000,\\n      \"end\" : 7.080000,\\n      \"start\" : 6.960000,\\n      \"word\" : \"there\"\\n    }, {\\n      \"conf\" : 1.000000,\\n      \"end\" : 7.230000,\\n      \"start\" : 7.080000,\\n      \"word\" : \"was\"\\n    }, {\\n      \"conf\" : 1.000000,\\n      \"end\" : 7.470000,\\n      \"start\" : 7.230000,\\n      \"word\" : \"only\"\\n    }, {\\n      \"conf\" : 1.000000,\\n      \"end\" : 7.770000,\\n      \"start\" : 7.470000,\\n      \"word\" : \"really\"\\n    }, {\\n      \"conf\" : 1.000000,\\n      \"end\" : 8.130000,\\n      \"start\" : 7.770000,\\n      \"word\" : \"one\"\\n    }, {\\n      \"conf\" : 1.000000,\\n      \"end\" : 8.640000,\\n      \"start\" : 8.130000,\\n      \"word\" : \"tidbit\"\\n    }, {\\n      \"conf\" : 1.000000,\\n      \"end\" : 8.820000,\\n      \"start\" : 8.640000,\\n      \"word\" : \"of\"\\n    }, {\\n      \"conf\" : 1.000000,\\n      \"end\" : 9.270000,\\n      \"start\" : 8.820000,\\n      \"word\" : \"actual\"\\n    }, {\\n      \"conf\" : 1.000000,\\n      \"end\" : 9.660000,\\n      \"start\" : 9.270000,\\n      \"word\" : \"news\"\\n    }, {\\n      \"conf\" : 1.000000,\\n      \"end\" : 9.780000,\\n      \"start\" : 9.660000,\\n      \"word\" : \"in\"\\n    }, {\\n      \"conf\" : 1.000000,\\n      \"end\" : 9.870000,\\n      \"start\" : 9.780000,\\n      \"word\" : \"the\"\\n    }, {\\n      \"conf\" : 1.000000,\\n      \"end\" : 10.260000,\\n      \"start\" : 9.870000,\\n      \"word\" : \"news\"\\n    }, {\\n      \"conf\" : 1.000000,\\n      \"end\" : 10.470000,\\n      \"start\" : 10.290000,\\n      \"word\" : \"and\"\\n    }, {\\n      \"conf\" : 1.000000,\\n      \"end\" : 10.590000,\\n      \"start\" : 10.470000,\\n      \"word\" : \"the\"\\n    }, {\\n      \"conf\" : 1.000000,\\n      \"end\" : 10.980000,\\n      \"start\" : 10.590000,\\n      \"word\" : \"interest\"\\n    }, {\\n      \"conf\" : 1.000000,\\n      \"end\" : 11.190000,\\n      \"start\" : 10.980000,\\n      \"word\" : \"rate\"\\n    }, {\\n      \"conf\" : 1.000000,\\n      \"end\" : 11.790000,\\n      \"start\" : 11.190000,\\n      \"word\" : \"increase\"\\n    }, {\\n      \"conf\" : 1.000000,\\n      \"end\" : 12.870000,\\n      \"start\" : 12.060000,\\n      \"word\" : \"wasn\\'t\"\\n    }, {\\n      \"conf\" : 1.000000,\\n      \"end\" : 13.350000,\\n      \"start\" : 12.990000,\\n      \"word\" : \"it\"\\n    }, {\\n      \"conf\" : 1.000000,\\n      \"end\" : 13.620000,\\n      \"start\" : 13.350000,\\n      \"word\" : \"you\"\\n    }, {\\n      \"conf\" : 0.798811,\\n      \"end\" : 13.770000,\\n      \"start\" : 13.620000,\\n      \"word\" : \"knew\"\\n    }, {\\n      \"conf\" : 1.000000,\\n      \"end\" : 13.890000,\\n      \"start\" : 13.770000,\\n      \"word\" : \"it\"\\n    }, {\\n      \"conf\" : 1.000000,\\n      \"end\" : 14.010000,\\n      \"start\" : 13.890000,\\n      \"word\" : \"was\"\\n    }, {\\n      \"conf\" : 1.000000,\\n      \"end\" : 14.400000,\\n      \"start\" : 14.010000,\\n      \"word\" : \"coming\"\\n    }, {\\n      \"conf\" : 1.000000,\\n      \"end\" : 14.850000,\\n      \"start\" : 14.580000,\\n      \"word\" : \"i\"\\n    }, {\\n      \"conf\" : 0.897372,\\n      \"end\" : 15.030000,\\n      \"start\" : 14.850000,\\n      \"word\" : \"knew\"\\n    }, {\\n      \"conf\" : 1.000000,\\n      \"end\" : 15.150000,\\n      \"start\" : 15.030000,\\n      \"word\" : \"it\"\\n    }, {\\n      \"conf\" : 1.000000,\\n      \"end\" : 15.300000,\\n      \"start\" : 15.150000,\\n      \"word\" : \"was\"\\n    }, {\\n      \"conf\" : 1.000000,\\n      \"end\" : 15.660000,\\n      \"start\" : 15.300000,\\n      \"word\" : \"common\"\\n    }, {\\n      \"conf\" : 1.000000,\\n      \"end\" : 16.110000,\\n      \"start\" : 15.660000,\\n      \"word\" : \"wall\"\\n    }, {\\n      \"conf\" : 1.000000,\\n      \"end\" : 16.470000,\\n      \"start\" : 16.110000,\\n      \"word\" : \"street\"\\n    }, {\\n      \"conf\" : 1.000000,\\n      \"end\" : 16.860000,\\n      \"start\" : 16.470000,\\n      \"word\" : \"news\"\\n    }, {\\n      \"conf\" : 1.000000,\\n      \"end\" : 17.070000,\\n      \"start\" : 16.860000,\\n      \"word\" : \"come\"\\n    }, {\\n      \"conf\" : 1.000000,\\n      \"end\" : 17.190000,\\n      \"start\" : 17.070000,\\n      \"word\" : \"and\"\\n    }, {\\n      \"conf\" : 1.000000,\\n      \"end\" : 18.210000,\\n      \"start\" : 17.190000,\\n      \"word\" : \"businesses\"\\n    }, {\\n      \"conf\" : 1.000000,\\n      \"end\" : 18.600000,\\n      \"start\" : 18.240000,\\n      \"word\" : \"knew\"\\n    }, {\\n      \"conf\" : 1.000000,\\n      \"end\" : 18.750000,\\n      \"start\" : 18.600000,\\n      \"word\" : \"it\"\\n    }, {\\n      \"conf\" : 1.000000,\\n      \"end\" : 18.930000,\\n      \"start\" : 18.750000,\\n      \"word\" : \"was\"\\n    }, {\\n      \"conf\" : 0.693604,\\n      \"end\" : 19.290000,\\n      \"start\" : 18.930000,\\n      \"word\" : \"common\"\\n    }, {\\n      \"conf\" : 1.000000,\\n      \"end\" : 20.070000,\\n      \"start\" : 19.740000,\\n      \"word\" : \"so\"\\n    }, {\\n      \"conf\" : 1.000000,\\n      \"end\" : 20.460000,\\n      \"start\" : 20.070000,\\n      \"word\" : \"on\"\\n    }, {\\n      \"conf\" : 1.000000,\\n      \"end\" : 20.760000,\\n      \"start\" : 20.490000,\\n      \"word\" : \"this\"\\n    }, {\\n      \"conf\" : 1.000000,\\n      \"end\" : 21.000000,\\n      \"start\" : 20.760000,\\n      \"word\" : \"fed\"\\n    }, {\\n      \"conf\" : 1.000000,\\n      \"end\" : 21.210000,\\n      \"start\" : 21.000000,\\n      \"word\" : \"day\"\\n    }, {\\n      \"conf\" : 1.000000,\\n      \"end\" : 21.330000,\\n      \"start\" : 21.210000,\\n      \"word\" : \"on\"\\n    }, {\\n      \"conf\" : 1.000000,\\n      \"end\" : 21.480000,\\n      \"start\" : 21.330000,\\n      \"word\" : \"this\"\\n    }, {\\n      \"conf\" : 1.000000,\\n      \"end\" : 21.900000,\\n      \"start\" : 21.480000,\\n      \"word\" : \"program\"\\n    }, {\\n      \"conf\" : 1.000000,\\n      \"end\" : 22.290000,\\n      \"start\" : 21.900000,\\n      \"word\" : \"something\"\\n    }, {\\n      \"conf\" : 1.000000,\\n      \"end\" : 22.350000,\\n      \"start\" : 22.290000,\\n      \"word\" : \"a\"\\n    }, {\\n      \"conf\" : 1.000000,\\n      \"end\" : 22.530000,\\n      \"start\" : 22.350000,\\n      \"word\" : \"little\"\\n    }, {\\n      \"conf\" : 1.000000,\\n      \"end\" : 22.650000,\\n      \"start\" : 22.530000,\\n      \"word\" : \"bit\"\\n    }, {\\n      \"conf\" : 1.000000,\\n      \"end\" : 22.980000,\\n      \"start\" : 22.650000,\\n      \"word\" : \"different\"\\n    }, {\\n      \"conf\" : 1.000000,\\n      \"end\" : 23.220000,\\n      \"start\" : 22.980000,\\n      \"word\" : \"jay\"\\n    }, {\\n      \"conf\" : 1.000000,\\n      \"end\" : 23.730000,\\n      \"start\" : 23.220000,\\n      \"word\" : \"powell\"\\n    }, {\\n      \"conf\" : 1.000000,\\n      \"end\" : 23.880000,\\n      \"start\" : 23.730000,\\n      \"word\" : \"in\"\\n    }, {\\n      \"conf\" : 1.000000,\\n      \"end\" : 24.030000,\\n      \"start\" : 23.880000,\\n      \"word\" : \"his\"\\n    }, {\\n      \"conf\" : 1.000000,\\n      \"end\" : 24.300000,\\n      \"start\" : 24.030000,\\n      \"word\" : \"own\"\\n    }, {\\n      \"conf\" : 1.000000,\\n      \"end\" : 24.630000,\\n      \"start\" : 24.300000,\\n      \"word\" : \"words\"\\n    }, {\\n      \"conf\" : 1.000000,\\n      \"end\" : 25.110000,\\n      \"start\" : 24.630000,\\n      \"word\" : \"five\"\\n    }, {\\n      \"conf\" : 1.000000,\\n      \"end\" : 25.260000,\\n      \"start\" : 25.110000,\\n      \"word\" : \"of\"\\n    }, {\\n      \"conf\" : 1.000000,\\n      \"end\" : 25.410000,\\n      \"start\" : 25.260000,\\n      \"word\" : \"\\'em\"\\n    }, {\\n      \"conf\" : 1.000000,\\n      \"end\" : 25.650000,\\n      \"start\" : 25.410000,\\n      \"word\" : \"his\"\\n    }, {\\n      \"conf\" : 1.000000,\\n      \"end\" : 26.160000,\\n      \"start\" : 25.650000,\\n      \"word\" : \"most\"\\n    }, {\\n      \"conf\" : 1.000000,\\n      \"end\" : 26.640000,\\n      \"start\" : 26.190000,\\n      \"word\" : \"used\"\\n    }, {\\n      \"conf\" : 1.000000,\\n      \"end\" : 27.143558,\\n      \"start\" : 26.640000,\\n      \"word\" : \"economic\"\\n    }, {\\n      \"conf\" : 0.619731,\\n      \"end\" : 27.360000,\\n      \"start\" : 27.150000,\\n      \"word\" : \"words\"\\n    }, {\\n      \"conf\" : 1.000000,\\n      \"end\" : 27.540000,\\n      \"start\" : 27.360000,\\n      \"word\" : \"from\"\\n    }, {\\n      \"conf\" : 1.000000,\\n      \"end\" : 27.810000,\\n      \"start\" : 27.540000,\\n      \"word\" : \"today\\'s\"\\n    }, {\\n      \"conf\" : 1.000000,\\n      \"end\" : 28.020000,\\n      \"start\" : 27.810000,\\n      \"word\" : \"press\"\\n    }, {\\n      \"conf\" : 1.000000,\\n      \"end\" : 28.380000,\\n      \"start\" : 28.020000,\\n      \"word\" : \"conference\"\\n    }, {\\n      \"conf\" : 0.629290,\\n      \"end\" : 29.069998,\\n      \"start\" : 28.859998,\\n      \"word\" : \"were\"\\n    }, {\\n      \"conf\" : 1.000000,\\n      \"end\" : 29.310000,\\n      \"start\" : 29.070000,\\n      \"word\" : \"number\"\\n    }, {\\n      \"conf\" : 1.000000,\\n      \"end\" : 29.580000,\\n      \"start\" : 29.310000,\\n      \"word\" : \"one\"\\n    }, {\\n      \"conf\" : 1.000000,\\n      \"end\" : 29.640000,\\n      \"start\" : 29.580000,\\n      \"word\" : \"of\"\\n    }, {\\n      \"conf\" : 1.000000,\\n      \"end\" : 30.120000,\\n      \"start\" : 29.640000,\\n      \"word\" : \"course\"\\n    }, {\\n      \"conf\" : 1.000000,\\n      \"end\" : 30.390000,\\n      \"start\" : 30.120000,\\n      \"word\" : \"it\\'s\"\\n    }, {\\n      \"conf\" : 1.000000,\\n      \"end\" : 30.480000,\\n      \"start\" : 30.390000,\\n      \"word\" : \"the\"\\n    }, {\\n      \"conf\" : 1.000000,\\n      \"end\" : 30.870000,\\n      \"start\" : 30.480000,\\n      \"word\" : \"biggie\"\\n    }, {\\n      \"conf\" : 1.000000,\\n      \"end\" : 31.440000,\\n      \"start\" : 31.230000,\\n      \"word\" : \"two\"\\n    }, {\\n      \"conf\" : 0.523940,\\n      \"end\" : 31.860000,\\n      \"start\" : 31.440000,\\n      \"word\" : \"percent\"\\n    }, {\\n      \"conf\" : 1.000000,\\n      \"end\" : 32.370000,\\n      \"start\" : 31.920000,\\n      \"word\" : \"inflation\"\\n    }, {\\n      \"conf\" : 1.000000,\\n      \"end\" : 32.700000,\\n      \"start\" : 32.370000,\\n      \"word\" : \"inflation\"\\n    }, {\\n      \"conf\" : 1.000000,\\n      \"end\" : 33.210000,\\n      \"start\" : 32.700000,\\n      \"word\" : \"inflation\"\\n    }, {\\n      \"conf\" : 1.000000,\\n      \"end\" : 33.810000,\\n      \"start\" : 33.210000,\\n      \"word\" : \"inflation\"\\n    }, {\\n      \"conf\" : 1.000000,\\n      \"end\" : 34.410000,\\n      \"start\" : 33.840000,\\n      \"word\" : \"inflation\"\\n    }, {\\n      \"conf\" : 1.000000,\\n      \"end\" : 34.770000,\\n      \"start\" : 34.410000,\\n      \"word\" : \"inflation\"\\n    }, {\\n      \"conf\" : 0.717120,\\n      \"end\" : 35.070000,\\n      \"start\" : 34.770000,\\n      \"word\" : \"lh\"\\n    }, {\\n      \"conf\" : 1.000000,\\n      \"end\" : 35.400000,\\n      \"start\" : 35.083942,\\n      \"word\" : \"dealing\"\\n    }, {\\n      \"conf\" : 1.000000,\\n      \"end\" : 35.550000,\\n      \"start\" : 35.400000,\\n      \"word\" : \"with\"\\n    }, {\\n      \"conf\" : 1.000000,\\n      \"end\" : 36.030000,\\n      \"start\" : 35.550000,\\n      \"word\" : \"inflation\"\\n    }, {\\n      \"conf\" : 1.000000,\\n      \"end\" : 36.630000,\\n      \"start\" : 36.300000,\\n      \"word\" : \"pals\"\\n    }, {\\n      \"conf\" : 1.000000,\\n      \"end\" : 36.870000,\\n      \"start\" : 36.630000,\\n      \"word\" : \"big\"\\n    }, {\\n      \"conf\" : 1.000000,\\n      \"end\" : 37.170000,\\n      \"start\" : 36.870000,\\n      \"word\" : \"worry\"\\n    }, {\\n      \"conf\" : 1.000000,\\n      \"end\" : 37.290000,\\n      \"start\" : 37.170000,\\n      \"word\" : \"the\"\\n    }, {\\n      \"conf\" : 1.000000,\\n      \"end\" : 37.560000,\\n      \"start\" : 37.290000,\\n      \"word\" : \"thing\"\\n    }, {\\n      \"conf\" : 1.000000,\\n      \"end\" : 37.920000,\\n      \"start\" : 37.560000,\\n      \"word\" : \"keeping\"\\n    }, {\\n      \"conf\" : 1.000000,\\n      \"end\" : 38.070000,\\n      \"start\" : 37.920000,\\n      \"word\" : \"him\"\\n    }, {\\n      \"conf\" : 1.000000,\\n      \"end\" : 38.250000,\\n      \"start\" : 38.070000,\\n      \"word\" : \"up\"\\n    }, {\\n      \"conf\" : 1.000000,\\n      \"end\" : 38.370000,\\n      \"start\" : 38.250000,\\n      \"word\" : \"at\"\\n    }, {\\n      \"conf\" : 1.000000,\\n      \"end\" : 38.670000,\\n      \"start\" : 38.370000,\\n      \"word\" : \"night\"\\n    }, {\\n      \"conf\" : 1.000000,\\n      \"end\" : 39.270000,\\n      \"start\" : 38.670000,\\n      \"word\" : \"price\"\\n    }, {\\n      \"conf\" : 1.000000,\\n      \"end\" : 40.380000,\\n      \"start\" : 39.300000,\\n      \"word\" : \"stability\"\\n    }, {\\n      \"conf\" : 1.000000,\\n      \"end\" : 40.650000,\\n      \"start\" : 40.380000,\\n      \"word\" : \"is\"\\n    }, {\\n      \"conf\" : 1.000000,\\n      \"end\" : 40.770000,\\n      \"start\" : 40.650000,\\n      \"word\" : \"the\"\\n    }, {\\n      \"conf\" : 0.997413,\\n      \"end\" : 41.130000,\\n      \"start\" : 40.770000,\\n      \"word\" : \"fed\\'s\"\\n    }, {\\n      \"conf\" : 1.000000,\\n      \"end\" : 41.670000,\\n      \"start\" : 41.160000,\\n      \"word\" : \"whole\"\\n    }, {\\n      \"conf\" : 0.970882,\\n      \"end\" : 42.300000,\\n      \"start\" : 41.670000,\\n      \"word\" : \"ballgame\"\\n    }, {\\n      \"conf\" : 1.000000,\\n      \"end\" : 42.480000,\\n      \"start\" : 42.300000,\\n      \"word\" : \"right\"\\n    }, {\\n      \"conf\" : 1.000000,\\n      \"end\" : 42.720000,\\n      \"start\" : 42.480000,\\n      \"word\" : \"now\"\\n    }, {\\n      \"conf\" : 0.513789,\\n      \"end\" : 43.140000,\\n      \"start\" : 42.720000,\\n      \"word\" : \"pau\"\\n    }, {\\n      \"conf\" : 1.000000,\\n      \"end\" : 43.620000,\\n      \"start\" : 43.140000,\\n      \"word\" : \"basically\"\\n    }, {\\n      \"conf\" : 1.000000,\\n      \"end\" : 44.040000,\\n      \"start\" : 43.620000,\\n      \"word\" : \"said\"\\n    }, {\\n      \"conf\" : 1.000000,\\n      \"end\" : 44.280000,\\n      \"start\" : 44.040000,\\n      \"word\" : \"as\"\\n    }, {\\n      \"conf\" : 1.000000,\\n      \"end\" : 44.640000,\\n      \"start\" : 44.280000,\\n      \"word\" : \"much\"\\n    }, {\\n      \"conf\" : 0.735505,\\n      \"end\" : 45.150000,\\n      \"start\" : 44.760000,\\n      \"word\" : \"today\"\\n    }, {\\n      \"conf\" : 0.290469,\\n      \"end\" : 45.327378,\\n      \"start\" : 45.150000,\\n      \"word\" : \"we\\'re\"\\n    }],\\n  \"text\" : \"the funny thing about the big economic news of the day the fed raising interest rates half a percentage point was that there was only really one tidbit of actual news in the news and the interest rate increase wasn\\'t it you knew it was coming i knew it was common wall street news come and businesses knew it was common so on this fed day on this program something a little bit different jay powell in his own words five of \\'em his most used economic words from today\\'s press conference were number one of course it\\'s the biggie two percent inflation inflation inflation inflation inflation inflation lh dealing with inflation pals big worry the thing keeping him up at night price stability is the fed\\'s whole ballgame right now pau basically said as much today we\\'re\"\\n}'"
      ]
     },
     "execution_count": 10,
     "metadata": {},
     "output_type": "execute_result"
    }
   ],
   "source": [
    "recognizer.AcceptWaveform(audio.raw_data)\n",
    "\n",
    "result = recognizer.Result()\n",
    "result"
   ]
  },
  {
   "cell_type": "markdown",
   "metadata": {},
   "source": [
    "The result is in the json format, we need to reconfigure it in a readable format"
   ]
  },
  {
   "cell_type": "code",
   "execution_count": 11,
   "metadata": {},
   "outputs": [
    {
     "data": {
      "text/plain": [
       "\"the funny thing about the big economic news of the day the fed raising interest rates half a percentage point was that there was only really one tidbit of actual news in the news and the interest rate increase wasn't it you knew it was coming i knew it was common wall street news come and businesses knew it was common so on this fed day on this program something a little bit different jay powell in his own words five of 'em his most used economic words from today's press conference were number one of course it's the biggie two percent inflation inflation inflation inflation inflation inflation lh dealing with inflation pals big worry the thing keeping him up at night price stability is the fed's whole ballgame right now pau basically said as much today we're\""
      ]
     },
     "execution_count": 11,
     "metadata": {},
     "output_type": "execute_result"
    }
   ],
   "source": [
    "import json\n",
    "text = json.loads(result)['text']\n",
    "\n",
    "text"
   ]
  },
  {
   "cell_type": "markdown",
   "metadata": {},
   "source": [
    "Adding Punctuations to the text"
   ]
  },
  {
   "cell_type": "code",
   "execution_count": 12,
   "metadata": {},
   "outputs": [
    {
     "name": "stdout",
     "output_type": "stream",
     "text": [
      "r:\\YRANA\\ML\\PROJECTS\\NLP\\Speech_Recognition\\nlpenv\\python.exe\n"
     ]
    }
   ],
   "source": [
    "import sys\n",
    "\n",
    "python_path = sys.executable\n",
    "print(python_path)\n"
   ]
  },
  {
   "cell_type": "code",
   "execution_count": 17,
   "metadata": {},
   "outputs": [
    {
     "data": {
      "text/plain": [
       "\"The funny thing about the big economic news of the day, the Fed raising interest rates half a percentage point, was that there was only really one tidbit of actual news in the news. And the interest rate increase, wasn ' t it. You knew it was coming. I knew it was common. Wall Street news come and businesses knew it was common. So on this Fed day, on this program, something a little bit different. Jay Powell, in his own words, five of ' em. His most used economic words from today ' s press conference were number one, Of course, it ' s the biggie Two percent inflation, inflation, inflation, inflation, inflation, inflation. Lh dealing with inflation pals Big worry. The thing keeping him up at night, price stability, is the Fed ' s whole ballgame right now. Pau basically said as much today. We ' re.\\n\""
      ]
     },
     "execution_count": 17,
     "metadata": {},
     "output_type": "execute_result"
    }
   ],
   "source": [
    "import subprocess\n",
    "\n",
    "\n",
    "cased = subprocess.check_output(\"r:/YRANA/ML/PROJECTS/NLP/Speech_Recognition/nlpenv/python.exe recasepunc/recasepunc.py predict recasepunc/checkpoint\", shell=True, text=True, input=text)\n",
    "\n",
    "cased\n"
   ]
  },
  {
   "cell_type": "markdown",
   "metadata": {},
   "source": [
    "Define a function to apply the model and the punctuation on an audio file >45s"
   ]
  },
  {
   "cell_type": "code",
   "execution_count": 18,
   "metadata": {},
   "outputs": [],
   "source": [
    "def Voice_Recognition(file_name):\n",
    "    #Define and load model\n",
    "    model = Model(model_name='vosk-model-en-us-0.22')\n",
    "    recognizer = KaldiRecognizer(model, FRAME_RATE)\n",
    "    recognizer.SetWords(True)\n",
    "\n",
    "    audio = AudioSegment.from_mp3('./marketplace_full.mp3')\n",
    "    audio = audio.set_frame_rate(FRAME_RATE)\n",
    "    audio =  audio.set_channels(CHANNELS)\n",
    "\n",
    "    \n",
    "    step = 45000\n",
    "    transcript = \"\"  #define an empty string\n",
    "\n",
    "    for i in range(0, len(audio), step):\n",
    "        print(f\"progress : {i/len(audio)}\")\n",
    "\n",
    "        #Break the audio into segments\n",
    "        segment = audio[i:(i+step)]\n",
    "\n",
    "        #run the recognizer now on this small segment\n",
    "        recognizer.AcceptWaveform(segment.raw_data)\n",
    "        result = recognizer.Result()\n",
    "        text =  json.loads(result)['text']\n",
    "\n",
    "        #Add this text to transcript\n",
    "        transcript +=text\n",
    "\n",
    "    #Apply Punctuation to the transcripted text\n",
    "    cased = subprocess.check_output(\"r:/YRANA/ML/PROJECTS/NLP/Speech_Recognition/nlpenv/python.exe recasepunc/recasepunc.py predict recasepunc/checkpoint\", shell=True, text=True, input=text)\n",
    "    return cased"
   ]
  },
  {
   "cell_type": "code",
   "execution_count": 19,
   "metadata": {},
   "outputs": [
    {
     "name": "stdout",
     "output_type": "stream",
     "text": [
      "progress : 0.0\n",
      "progress : 0.02666815218151411\n",
      "progress : 0.05333630436302822\n",
      "progress : 0.08000445654454233\n",
      "progress : 0.10667260872605644\n",
      "progress : 0.13334076090757055\n",
      "progress : 0.16000891308908466\n",
      "progress : 0.18667706527059877\n",
      "progress : 0.21334521745211288\n",
      "progress : 0.240013369633627\n",
      "progress : 0.2666815218151411\n",
      "progress : 0.29334967399665524\n",
      "progress : 0.3200178261781693\n",
      "progress : 0.34668597835968346\n",
      "progress : 0.37335413054119754\n",
      "progress : 0.4000222827227117\n",
      "progress : 0.42669043490422576\n",
      "progress : 0.4533585870857399\n",
      "progress : 0.480026739267254\n",
      "progress : 0.5066948914487681\n",
      "progress : 0.5333630436302822\n",
      "progress : 0.5600311958117963\n",
      "progress : 0.5866993479933105\n",
      "progress : 0.6133675001748246\n",
      "progress : 0.6400356523563386\n",
      "progress : 0.6667038045378528\n",
      "progress : 0.6933719567193669\n",
      "progress : 0.720040108900881\n",
      "progress : 0.7467082610823951\n",
      "progress : 0.7733764132639093\n",
      "progress : 0.8000445654454234\n",
      "progress : 0.8267127176269374\n",
      "progress : 0.8533808698084515\n",
      "progress : 0.8800490219899657\n",
      "progress : 0.9067171741714798\n",
      "progress : 0.9333853263529939\n",
      "progress : 0.960053478534508\n",
      "progress : 0.9867216307160221\n"
     ]
    },
    {
     "data": {
      "text/plain": [
       "\"Musk ' s new company, Twitter, of course, reports earnings on Thursday. Our daily production team is Unease, I ' m in and Corbyn Richard Cunningham, Real horse, John McHenry and Daisy Palacios on Car. Resolved, We will see tomorrow the APIa\\n\""
      ]
     },
     "execution_count": 19,
     "metadata": {},
     "output_type": "execute_result"
    }
   ],
   "source": [
    "transcript = Voice_Recognition('Notebooks\\marketplace_full.mp3')\n",
    "transcript"
   ]
  },
  {
   "cell_type": "markdown",
   "metadata": {},
   "source": [
    "Text Summarization"
   ]
  },
  {
   "cell_type": "code",
   "execution_count": 20,
   "metadata": {},
   "outputs": [],
   "source": [
    "from transformers import pipeline"
   ]
  },
  {
   "cell_type": "code",
   "execution_count": 21,
   "metadata": {},
   "outputs": [
    {
     "name": "stderr",
     "output_type": "stream",
     "text": [
      "No model was supplied, defaulted to sshleifer/distilbart-cnn-12-6 and revision a4f8f3e (https://huggingface.co/sshleifer/distilbart-cnn-12-6).\n",
      "Using a pipeline without specifying a model name and revision in production is not recommended.\n",
      "Downloading (…)lve/main/config.json: 100%|██████████| 1.80k/1.80k [00:00<00:00, 259kB/s]\n",
      "r:\\YRANA\\ML\\PROJECTS\\NLP\\Speech_Recognition\\nlpenv\\lib\\site-packages\\huggingface_hub\\file_download.py:133: UserWarning: `huggingface_hub` cache-system uses symlinks by default to efficiently store duplicated files but your machine does not support them in C:\\Users\\yrana\\.cache\\huggingface\\hub. Caching files will still work but in a degraded version that might require more space on your disk. This warning can be disabled by setting the `HF_HUB_DISABLE_SYMLINKS_WARNING` environment variable. For more details, see https://huggingface.co/docs/huggingface_hub/how-to-cache#limitations.\n",
      "To support symlinks on Windows, you either need to activate Developer Mode or to run Python as an administrator. In order to see activate developer mode, see this article: https://docs.microsoft.com/en-us/windows/apps/get-started/enable-your-device-for-development\n",
      "  warnings.warn(message)\n",
      "Downloading pytorch_model.bin: 100%|██████████| 1.22G/1.22G [06:25<00:00, 3.17MB/s]\n",
      "Downloading (…)okenizer_config.json: 100%|██████████| 26.0/26.0 [00:00<00:00, 2.37kB/s]\n",
      "Downloading (…)olve/main/vocab.json: 100%|██████████| 899k/899k [00:00<00:00, 1.04MB/s]\n",
      "Downloading (…)olve/main/merges.txt: 100%|██████████| 456k/456k [00:00<00:00, 810kB/s]\n"
     ]
    }
   ],
   "source": [
    "summarizer = pipeline('summarization')"
   ]
  },
  {
   "cell_type": "markdown",
   "metadata": {},
   "source": [
    "Split the text into small sets :-  Since hugging face processes only 1024 tokens at a time\n",
    "\n",
    "So, we need to tokenize our text/transcript"
   ]
  },
  {
   "cell_type": "code",
   "execution_count": 22,
   "metadata": {},
   "outputs": [
    {
     "ename": "ValueError",
     "evalue": "empty separator",
     "output_type": "error",
     "traceback": [
      "\u001b[1;31m---------------------------------------------------------------------------\u001b[0m",
      "\u001b[1;31mValueError\u001b[0m                                Traceback (most recent call last)",
      "Cell \u001b[1;32mIn[22], line 1\u001b[0m\n\u001b[1;32m----> 1\u001b[0m split_tokens \u001b[39m=\u001b[39m transcript\u001b[39m.\u001b[39;49msplit(\u001b[39m\"\u001b[39;49m\u001b[39m\"\u001b[39;49m)\n\u001b[0;32m      2\u001b[0m docs \u001b[39m=\u001b[39m []\n\u001b[0;32m      4\u001b[0m \u001b[39mfor\u001b[39;00m i \u001b[39min\u001b[39;00m \u001b[39mrange\u001b[39m(\u001b[39m0\u001b[39m, \u001b[39mlen\u001b[39m(split_tokens), \u001b[39m850\u001b[39m):\n",
      "\u001b[1;31mValueError\u001b[0m: empty separator"
     ]
    }
   ],
   "source": [
    "split_tokens = transcript.split(\" \")\n",
    "docs = []\n",
    "\n",
    "for i in range(0, len(split_tokens), 850):\n",
    "    selection =  \"\".join(split_tokens[i:(i+850)])\n",
    "    docs.append(selection)"
   ]
  },
  {
   "cell_type": "code",
   "execution_count": null,
   "metadata": {},
   "outputs": [],
   "source": []
  }
 ],
 "metadata": {
  "kernelspec": {
   "display_name": "Python 3",
   "language": "python",
   "name": "python3"
  },
  "language_info": {
   "codemirror_mode": {
    "name": "ipython",
    "version": 3
   },
   "file_extension": ".py",
   "mimetype": "text/x-python",
   "name": "python",
   "nbconvert_exporter": "python",
   "pygments_lexer": "ipython3",
   "version": "3.8.0"
  },
  "orig_nbformat": 4
 },
 "nbformat": 4,
 "nbformat_minor": 2
}
